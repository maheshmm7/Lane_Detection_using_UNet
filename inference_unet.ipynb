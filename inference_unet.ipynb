{
 "cells": [
  {
   "cell_type": "code",
   "execution_count": null,
   "metadata": {},
   "outputs": [],
   "source": [
    "import numpy as np\n",
    "import matplotlib.pyplot as plt\n",
    "import tensorflow as tf\n",
    "from keras.models import load_model\n",
    "from keras.preprocessing import image\n",
    "from keras.applications.resnet50 import preprocess_input\n",
    "\n",
    "# Load the saved model\n",
    "loaded_model = load_model('Lane_Model_3.h5')\n",
    "\n",
    "# Function to preprocess and predict on a single image\n",
    "def predict_on_image(model, img_path):\n",
    "    img = image.load_img(img_path, target_size=(256, 320))\n",
    "    img_array = image.img_to_array(img)\n",
    "    img_array = np.expand_dims(img_array, axis=0)\n",
    "    img_array = preprocess_input(img_array)\n",
    "\n",
    "    prediction = model.predict(img_array)\n",
    "\n",
    "    return prediction[0]\n",
    "\n",
    "# Test the model on a new image\n",
    "new_image_path = 'output.png'\n",
    "prediction_result = predict_on_image(loaded_model, new_image_path)\n",
    "\n",
    "# Visualize the input image and the model's prediction\n",
    "plt.figure(figsize=(10, 5))\n",
    "\n",
    "# Display the original image\n",
    "plt.subplot(1, 2, 1)\n",
    "img = image.load_img(new_image_path)\n",
    "plt.imshow(img)\n",
    "plt.title('Original Image')\n",
    "plt.axis('off')\n",
    "\n",
    "# Display the model's prediction\n",
    "plt.subplot(1, 2, 2)\n",
    "plt.imshow(prediction_result.squeeze(), cmap='gray')\n",
    "plt.title('Model Prediction')\n",
    "plt.axis('off')\n",
    "\n",
    "plt.show()\n"
   ]
  }
 ],
 "metadata": {
  "language_info": {
   "name": "python"
  }
 },
 "nbformat": 4,
 "nbformat_minor": 2
}
